{
 "cells": [
  {
   "cell_type": "code",
   "execution_count": 1,
   "id": "96facc8a",
   "metadata": {},
   "outputs": [],
   "source": [
    "import pandas as pd\n",
    "import numpy as np\n",
    "import matplotlib.pyplot as plt\n",
    "import seaborn as sns\n",
    "from typing import Tuple\n"
   ]
  },
  {
   "cell_type": "code",
   "execution_count": 4,
   "id": "97543b82",
   "metadata": {},
   "outputs": [],
   "source": [
    "def load_and_clean_data(filepath: str) -> pd.DataFrame:\n",
    "    if not os.path.exists(filepath):\n",
    "        raise FileNotFoundError(f\"File not found: {filepath}. Please ensure the dataset exists in the working directory.\")\n",
    "\n",
    "    df = pd.read_csv(filepath)\n",
    "    df = df.dropna(subset=['occupancy', 'capacity', 'queue', 'latitude', 'longitude'])\n",
    "    df['timestamp'] = pd.to_datetime(df['timestamp'])\n",
    "    df = df.sort_values(by='timestamp')\n",
    "    return df\n",
    "\n"
   ]
  },
  {
   "cell_type": "markdown",
   "id": "ae6cf207",
   "metadata": {},
   "source": [
    " Standardize and rename columns"
   ]
  },
  {
   "cell_type": "code",
   "execution_count": 6,
   "id": "31bcdcaf",
   "metadata": {},
   "outputs": [
    {
     "ename": "NameError",
     "evalue": "name 'df' is not defined",
     "output_type": "error",
     "traceback": [
      "\u001b[1;31m---------------------------------------------------------------------------\u001b[0m",
      "\u001b[1;31mNameError\u001b[0m                                 Traceback (most recent call last)",
      "Cell \u001b[1;32mIn[6], line 1\u001b[0m\n\u001b[1;32m----> 1\u001b[0m df \u001b[38;5;241m=\u001b[39m df\u001b[38;5;241m.\u001b[39mrename(columns\u001b[38;5;241m=\u001b[39m{\n\u001b[0;32m      2\u001b[0m         \u001b[38;5;124m'\u001b[39m\u001b[38;5;124mSystemCodeNumber\u001b[39m\u001b[38;5;124m'\u001b[39m: \u001b[38;5;124m'\u001b[39m\u001b[38;5;124mlot_id\u001b[39m\u001b[38;5;124m'\u001b[39m,\n\u001b[0;32m      3\u001b[0m         \u001b[38;5;124m'\u001b[39m\u001b[38;5;124mOccupancy\u001b[39m\u001b[38;5;124m'\u001b[39m: \u001b[38;5;124m'\u001b[39m\u001b[38;5;124moccupancy\u001b[39m\u001b[38;5;124m'\u001b[39m,\n\u001b[0;32m      4\u001b[0m         \u001b[38;5;124m'\u001b[39m\u001b[38;5;124mCapacity\u001b[39m\u001b[38;5;124m'\u001b[39m: \u001b[38;5;124m'\u001b[39m\u001b[38;5;124mcapacity\u001b[39m\u001b[38;5;124m'\u001b[39m,\n\u001b[0;32m      5\u001b[0m         \u001b[38;5;124m'\u001b[39m\u001b[38;5;124mLatitude\u001b[39m\u001b[38;5;124m'\u001b[39m: \u001b[38;5;124m'\u001b[39m\u001b[38;5;124mlatitude\u001b[39m\u001b[38;5;124m'\u001b[39m,\n\u001b[0;32m      6\u001b[0m         \u001b[38;5;124m'\u001b[39m\u001b[38;5;124mLongitude\u001b[39m\u001b[38;5;124m'\u001b[39m: \u001b[38;5;124m'\u001b[39m\u001b[38;5;124mlongitude\u001b[39m\u001b[38;5;124m'\u001b[39m,\n\u001b[0;32m      7\u001b[0m         \u001b[38;5;124m'\u001b[39m\u001b[38;5;124mVehicleType\u001b[39m\u001b[38;5;124m'\u001b[39m: \u001b[38;5;124m'\u001b[39m\u001b[38;5;124mvehicle_type\u001b[39m\u001b[38;5;124m'\u001b[39m,\n\u001b[0;32m      8\u001b[0m         \u001b[38;5;124m'\u001b[39m\u001b[38;5;124mTrafficConditionNearby\u001b[39m\u001b[38;5;124m'\u001b[39m: \u001b[38;5;124m'\u001b[39m\u001b[38;5;124mtraffic\u001b[39m\u001b[38;5;124m'\u001b[39m,\n\u001b[0;32m      9\u001b[0m         \u001b[38;5;124m'\u001b[39m\u001b[38;5;124mQueueLength\u001b[39m\u001b[38;5;124m'\u001b[39m: \u001b[38;5;124m'\u001b[39m\u001b[38;5;124mqueue\u001b[39m\u001b[38;5;124m'\u001b[39m,\n\u001b[0;32m     10\u001b[0m         \u001b[38;5;124m'\u001b[39m\u001b[38;5;124mIsSpecialDay\u001b[39m\u001b[38;5;124m'\u001b[39m: \u001b[38;5;124m'\u001b[39m\u001b[38;5;124mis_special_day\u001b[39m\u001b[38;5;124m'\u001b[39m,\n\u001b[0;32m     11\u001b[0m         \u001b[38;5;124m'\u001b[39m\u001b[38;5;124mLastUpdatedDate\u001b[39m\u001b[38;5;124m'\u001b[39m: \u001b[38;5;124m'\u001b[39m\u001b[38;5;124mdate\u001b[39m\u001b[38;5;124m'\u001b[39m,\n\u001b[0;32m     12\u001b[0m         \u001b[38;5;124m'\u001b[39m\u001b[38;5;124mLastUpdatedTime\u001b[39m\u001b[38;5;124m'\u001b[39m: \u001b[38;5;124m'\u001b[39m\u001b[38;5;124mtime\u001b[39m\u001b[38;5;124m'\u001b[39m\n\u001b[0;32m     13\u001b[0m     })\n",
      "\u001b[1;31mNameError\u001b[0m: name 'df' is not defined"
     ]
    }
   ],
   "source": [
    "df = df.rename(columns={\n",
    "        'SystemCodeNumber': 'lot_id',\n",
    "        'Occupancy': 'occupancy',\n",
    "        'Capacity': 'capacity',\n",
    "        'Latitude': 'latitude',\n",
    "        'Longitude': 'longitude',\n",
    "        'VehicleType': 'vehicle_type',\n",
    "        'TrafficConditionNearby': 'traffic',\n",
    "        'QueueLength': 'queue',\n",
    "        'IsSpecialDay': 'is_special_day',\n",
    "        'LastUpdatedDate': 'date',\n",
    "        'LastUpdatedTime': 'time'\n",
    "    })"
   ]
  },
  {
   "cell_type": "markdown",
   "id": "6dccb462",
   "metadata": {},
   "source": []
  },
  {
   "cell_type": "code",
   "execution_count": null,
   "id": "e45ec5a6",
   "metadata": {},
   "outputs": [],
   "source": [
    "df['datetime'] = pd.to_datetime(df['date'] + ' ' + df['time'])\n",
    "df['vehicle_type'] = df['vehicle_type'].str.lower().str.strip()\n",
    "df['traffic'] = df['traffic'].astype(str)\n",
    "df['is_special_day'] = df['is_special_day'].astype(int)\n",
    "df['queue'] = pd.to_numeric(df['queue'], errors='coerce')\n",
    "df['lot_id'] = df['lot_id'].astype(str)\n"
   ]
  },
  {
   "cell_type": "markdown",
   "id": "103b26eb",
   "metadata": {},
   "source": [
    "   Feature engineering"
   ]
  },
  {
   "cell_type": "code",
   "execution_count": null,
   "id": "b01f8a7b",
   "metadata": {},
   "outputs": [],
   "source": [
    "df['occ_ratio'] = df['occupancy'] / df['capacity']\n",
    "df['hour'] = df['datetime'].dt.hour\n",
    "df['day_of_week'] = df['datetime'].dt.dayofweek\n",
    "df['date_only'] = df['datetime'].dt.date"
   ]
  },
  {
   "cell_type": "markdown",
   "id": "8875ace8",
   "metadata": {},
   "source": [
    "chronologically"
   ]
  },
  {
   "cell_type": "code",
   "execution_count": null,
   "id": "610518fa",
   "metadata": {},
   "outputs": [],
   "source": [
    "df = df.sort_values(by=['lot_id', 'datetime'])\n"
   ]
  },
  {
   "cell_type": "markdown",
   "id": "c6cdac81",
   "metadata": {},
   "source": [
    "Drop incomplete records"
   ]
  },
  {
   "cell_type": "code",
   "execution_count": null,
   "id": "4e2cfb61",
   "metadata": {},
   "outputs": [],
   "source": [
    "df = df.dropna(subset=['occupancy', 'capacity', 'queue', 'latitude', 'longitude'])\n",
    "df\n",
    "        "
   ]
  },
  {
   "cell_type": "markdown",
   "id": "bbbb505a",
   "metadata": {},
   "source": [
    "Exploratory Analysis"
   ]
  },
  {
   "cell_type": "code",
   "execution_count": null,
   "id": "fbff3b7a",
   "metadata": {},
   "outputs": [],
   "source": [
    "def plot_eda(df: pd.DataFrame) -> None:\n",
    "\n",
    "    sns.set(style='whitegrid')"
   ]
  },
  {
   "cell_type": "markdown",
   "id": "51b72b79",
   "metadata": {},
   "source": [
    "Avg Occupancy by Hour"
   ]
  },
  {
   "cell_type": "code",
   "execution_count": null,
   "metadata": {},
   "outputs": [],
   "source": [
    "plt.figure(figsize=(10, 5))\n",
    "sns.lineplot(data=df, x='hour', y='occ_ratio', estimator='mean', ci=None)\n",
    "plt.title('Avg Occupancy Ratio by Hour')\n",
    "plt.xlabel('Hour'); plt.ylabel('Occupancy Ratio'); plt.show()"
   ]
  },
  {
   "cell_type": "markdown",
   "id": "f7ea95b9",
   "metadata": {},
   "source": [
    "Queue vs Occupancy"
   ]
  },
  {
   "cell_type": "code",
   "execution_count": null,
   "id": "c81b0ed8",
   "metadata": {},
   "outputs": [],
   "source": [
    "plt.figure(figsize=(8, 5))\n",
    "sns.scatterplot(data=df, x='queue', y='occ_ratio', alpha=0.4)\n",
    "plt.title('Queue vs. Occupancy Ratio'); plt.show()"
   ]
  },
  {
   "cell_type": "markdown",
   "id": "22892581",
   "metadata": {},
   "source": [
    "Traffic vs Occupancy"
   ]
  },
  {
   "cell_type": "code",
   "execution_count": null,
   "id": "49147950",
   "metadata": {},
   "outputs": [],
   "source": [
    "plt.figure(figsize=(10, 5))\n",
    "sns.boxplot(data=df, x='traffic', y='occ_ratio')\n",
    "plt.title('Traffic vs. Occupancy Ratio'); plt.show()"
   ]
  },
  {
   "cell_type": "markdown",
   "id": "8b9598a7",
   "metadata": {},
   "source": [
    "Vehicle Type vs Occupancy"
   ]
  },
  {
   "cell_type": "code",
   "execution_count": null,
   "id": "f14798ae",
   "metadata": {},
   "outputs": [],
   "source": [
    "plt.figure(figsize=(8, 5))\n",
    "sns.boxplot(data=df, x='vehicle_type', y='occ_ratio')\n",
    "plt.title('Vehicle Type vs. Occupancy'); plt.show()"
   ]
  },
  {
   "cell_type": "markdown",
   "id": "93c9acd2",
   "metadata": {},
   "source": [
    "Special Day Impact"
   ]
  },
  {
   "cell_type": "code",
   "execution_count": null,
   "id": "1ff9b7d0",
   "metadata": {},
   "outputs": [],
   "source": [
    "plt.figure(figsize=(6, 5))\n",
    "sns.boxplot(data=df, x='is_special_day', y='occ_ratio')\n",
    "plt.xticks([0, 1], ['Normal', 'Special'])\n",
    "plt.title('Special Day Impact'); plt.show()"
   ]
  },
  {
   "cell_type": "markdown",
   "id": "e1d5419d",
   "metadata": {},
   "source": [
    "Baseline Linear Model"
   ]
  },
  {
   "cell_type": "code",
   "execution_count": null,
   "id": "c24d7412",
   "metadata": {},
   "outputs": [],
   "source": [
    "def baseline_price_model(\n",
    "    df: pd.DataFrame, alpha: float = 2.0, base_price: float = 10.0,\n",
    "    clip_pct: float = 0.2\n",
    ") -> pd.DataFrame:\n",
    "    \"\"\"\n",
    "    Simple linear pricing model based on occupancy.\n",
    "    \"\"\"\n",
    "    df = df.copy()\n",
    "    df['price'] = base_price\n",
    "\n",
    "\n",
    "    df = df.sort_values(['lot_id', 'datetime'])\n",
    "    for lot_id in df['lot_id'].unique():\n",
    "        lot_data = df[df['lot_id'] == lot_id].copy()\n",
    "        prev_price = base_price\n",
    "        prices = []\n",
    "\n",
    "        for _, row in lot_data.iterrows():\n",
    "            occ_ratio = row['occ_ratio']\n",
    "            delta = alpha * occ_ratio\n",
    "            new_price = prev_price + delta\n",
    "\n",
    "            # Clip smoothness\n",
    "            lower = prev_price * (1 - clip_pct)\n",
    "            upper = prev_price * (1 + clip_pct)\n",
    "            new_price = np.clip(new_price, lower, upper)\n",
    "\n",
    "            prices.append(new_price)\n",
    "            prev_price = new_price\n",
    "\n",
    "        df.loc[df['lot_id'] == lot_id, 'price'] = prices\n",
    "    return df\n"
   ]
  },
  {
   "cell_type": "markdown",
   "id": "0b38b4fa",
   "metadata": {},
   "source": [
    "Price for a Sample Lot"
   ]
  },
  {
   "cell_type": "code",
   "execution_count": null,
   "id": "4bff07a0",
   "metadata": {},
   "outputs": [],
   "source": [
    "def plot_sample_price(df: pd.DataFrame, sample_lot: str) -> None:\n",
    "\n",
    "    lot_data = df[df['lot_id'] == sample_lot]\n",
    "    plt.figure(figsize=(10, 5))\n",
    "    plt.plot(lot_data['datetime'], lot_data['price'], marker='o')\n",
    "    plt.title(f'Price Trend for Lot {sample_lot}')\n",
    "    plt.xlabel('Time'); plt.ylabel('Price ($)')\n",
    "    plt.xticks(rotation=45); plt.grid(); plt.tight_layout()\n",
    "    plt.show()"
   ]
  },
  {
   "cell_type": "code",
   "execution_count": null,
   "id": "3dd4ac6b",
   "metadata": {},
   "outputs": [],
   "source": [
    "if __name__ == '__main__':\n",
    "    FILEPATH = 'urban_parking_data.csv'  # Make sure this file exists\n",
    "    try:\n",
    "        df_clean = load_and_clean_data(FILEPATH)\n",
    "\n",
    "        # Perform EDA\n",
    "        plot_eda(df_clean)\n",
    "\n",
    "        # Apply baseline model\n",
    "        df_priced = baseline_price_model(df_clean)\n",
    "\n",
    "        # Visualize one lot (example: first lot)\n",
    "        first_lot_id = df_priced['lot_id'].iloc[0]\n",
    "        plot_sample_price(df_priced, sample_lot=first_lot_id)\n",
    "\n",
    "    except FileNotFoundError as e:\n",
    "        print(e)\n",
    "        print(\"\\nPlease ensure the dataset file exists in the working directory or provide the correct path.\")"
   ]
  }
 ],
 "metadata": {
  "kernelspec": {
   "display_name": "base",
   "language": "python",
   "name": "python3"
  },
  "language_info": {
   "codemirror_mode": {
    "name": "ipython",
    "version": 3
   },
   "file_extension": ".py",
   "mimetype": "text/x-python",
   "name": "python",
   "nbconvert_exporter": "python",
   "pygments_lexer": "ipython3",
   "version": "3.12.4"
  }
 },
 "nbformat": 4,
 "nbformat_minor": 5
}
